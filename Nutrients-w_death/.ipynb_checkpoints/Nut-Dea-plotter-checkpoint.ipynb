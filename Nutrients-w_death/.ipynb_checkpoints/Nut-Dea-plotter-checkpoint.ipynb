{
 "cells": [
  {
   "cell_type": "code",
   "execution_count": 113,
   "metadata": {
    "collapsed": true
   },
   "outputs": [],
   "source": [
    "import numpy as np\n",
    "import csv\n",
    "import matplotlib.pyplot as plt"
   ]
  },
  {
   "cell_type": "code",
   "execution_count": 114,
   "metadata": {
    "collapsed": false
   },
   "outputs": [],
   "source": [
    "def readColumnsFromFile(filename):\n",
    "    '''reads in the raw data and returns a list of lists.\n",
    "    the first list (returned[0]) is the x-coords. '''\n",
    "    with open(filename) as infile:\n",
    "        reader = csv.reader(infile, delimiter=\" \")\n",
    "        row_array = []\n",
    "        \n",
    "        for row in reader:\n",
    "            row_data = [col.strip() for col in row]          \n",
    "            row_array.append(row_data)\n",
    "            \n",
    "        #converts rows to columns and removes the last item in the columns list which is just spaces\n",
    "        #this is an atrifact of the file printing system\n",
    "        #also has zip output in lists not tuples\n",
    "        col_array = [list(a) for a in zip(*row_array)]\n",
    "        del col_array[-1]\n",
    "        #convert list of lists of strings to list of lists of floats\n",
    "        #return list([[float(j) for j in i] for i in col_array])\n",
    "        return np.array([[float(j) for j in i] for i in col_array])\n",
    "        \n",
    "#test = readInFile('fastGrowers_death-alpha=0.004884694070738408-aliveSpatialDistribution-FINAL.txt')\n",
    "#print(len(test))\n",
    "#print(test)"
   ]
  },
  {
   "cell_type": "code",
   "execution_count": 133,
   "metadata": {
    "collapsed": false
   },
   "outputs": [
    {
     "name": "stdout",
     "output_type": "stream",
     "text": [
      "<class 'numpy.ndarray'>\n",
      "500\n",
      "21\n"
     ]
    }
   ],
   "source": [
    "FGTA_live_pops = readColumnsFromFile('fastGrowers_death-alpha=0.004884694070738408-aliveSpatialDistribution-FINAL.txt')\n",
    "FGTA_dead_pops = readColumnsFromFile('fastGrowers_death-alpha=0.004884694070738408-deadSpatialDistribution-FINAL.txt')\n",
    "SGTA_live_pops = readColumnsFromFile('slowGrowers_death-alpha=0.004884694070738408-aliveSpatialDistribution-FINAL.txt')\n",
    "SGTA_dead_pops = readColumnsFromFile('slowGrowers_death-alpha=0.004884694070738408-deadSpatialDistribution-FINAL.txt')\n",
    "\n",
    "FGTA_growth_rates = readColumnsFromFile('fastGrowers_death-alpha=0.004884694070738408-gRateDistribution-FINAL.txt')\n",
    "SGTA_growth_rates = readColumnsFromFile('slowGrowers_death-alpha=0.004884694070738408-gRateDistribution-FINAL.txt')\n",
    "\n",
    "SGTA_nutrients = readColumnsFromFile('slowGrowers_death-alpha=0.004884694070738408-nutrientDistribution-FINAL.txt')\n",
    "SGTA_mu = readColumnsFromFile('slowGrowers_death-alpha=0.004884694070738408-mu(S)Distribution-FINAL.txt')\n",
    "SGTA_phi = readColumnsFromFile('slowGrowers_death-alpha=0.004884694070738408-phi(c)Distribution-FINAL.txt')\n",
    "\n",
    "print(type(FGTA_dead_pops))\n",
    "print(len(FGTA_live_pops[0]))\n",
    "print(len(FGTA_live_pops[1:]))"
   ]
  },
  {
   "cell_type": "code",
   "execution_count": 116,
   "metadata": {
    "collapsed": false
   },
   "outputs": [],
   "source": [
    "for i in range(1, len(FGTA_live_pops)):\n",
    "    plt.plot(FGTA_live_pops[0], FGTA_live_pops[i])\n",
    "#plt.plot(FGTA_live_pops[0], FGTA_live_pops[1:])    \n",
    "plt.show()"
   ]
  },
  {
   "cell_type": "code",
   "execution_count": 143,
   "metadata": {
    "collapsed": false
   },
   "outputs": [],
   "source": [
    "def percentAliveAndSizeOverTime(alive_data, dead_data, title):\n",
    "    \n",
    "    pc_alive_t = []\n",
    "    size_of_pop_t = []\n",
    "    t = [i for i in np.linspace(0., 2000., 21)]\n",
    "    \n",
    "    \n",
    "    for live_pop, dead_pop in zip(alive_data[1:], dead_data[1:]):\n",
    "        \n",
    "        num_alive = sum(live_pop)\n",
    "        num_dead = sum(dead_pop)\n",
    "        \n",
    "        size_of_pop_t.append(num_alive+num_dead)\n",
    "        pc_alive_t.append((num_alive/(num_alive+num_dead))*100.)\n",
    "\n",
    "        \n",
    "    fig, ax1 = plt.subplots()\n",
    "    ax1.plot(t, pc_alive_t, 'gH:')\n",
    "    ax1.set_xlabel('time')\n",
    "    ax1.set_ylabel('% alive', color='g')\n",
    "    ax1.tick_params('y', colors='g')\n",
    "    ax1.set_ylim(0, 105.)\n",
    "    \n",
    "    ax2 = ax1.twinx()\n",
    "    ax2.plot(t, size_of_pop_t, 'm^--')\n",
    "    ax2.set_ylabel('Population size', color='m')\n",
    "    ax2.tick_params('y', colors='m')\n",
    "    \n",
    "    #fig.tight_layout()\n",
    "    plt.title(title)\n",
    "    plt.savefig(title+'-percentAlive-PopSize-overTime.png')\n",
    "    plt.show()\n",
    "    \n",
    "    \n",
    "percentAliveAndSizeOverTime(FGTA_live_pops, FGTA_dead_pops, \"FGTA\")    \n",
    "percentAliveAndSizeOverTime(SGTA_live_pops, SGTA_dead_pops, \"SGTA\")     \n",
    "    \n",
    "    "
   ]
  },
  {
   "cell_type": "code",
   "execution_count": 132,
   "metadata": {
    "collapsed": false
   },
   "outputs": [],
   "source": [
    "def plotSelectedGrowthRates(gRateData, index, title):\n",
    "    \n",
    "    \n",
    "    timestep = 100.\n",
    "    for i in range(1, len(gRateData)):\n",
    "        plt.gcf().clear()\n",
    "        plt.ylim(-0.6, 1.0)\n",
    "        plt.plot(gRateData[0], gRateData[i], linewidth=2.5)\n",
    "        plt.title(title+' gRate - t ='+str(timestep*(i-1))\n",
    "        plt.axhline(0, color='black')\n",
    "        plt.savefig(''+title+'-gRate-breakdown/'+title+'-gRate-t='+str(timestep*(i-1))+'.png')\n",
    "        plt.gcf().clear()\n",
    "        \n",
    "    for gRate in gRateData[1:]:\n",
    "        plt.plot(gRateData[0], gRate, linewidth=2.5)\n",
    "        plt.title(title+' gRate (all)')\n",
    "        plt.xlabel('Microhabitat')\n",
    "        plt.ylabel('Growth rates')\n",
    "    plt.axhline(0, color='black')\n",
    "    plt.savefig(''+title+'-gRate-breakdown/'+title+'-gRate-all.png')\n",
    "       \n",
    "    \n",
    "plotSelectedGrowthRates(SGTA_growth_rates, 1,\"SGTA\")"
   ]
  },
  {
   "cell_type": "code",
   "execution_count": 148,
   "metadata": {
    "collapsed": false
   },
   "outputs": [],
   "source": [
    "def plotAllDataAtOnce(data, title, yLabel, antibiotic_type, alphaVal):\n",
    "    \n",
    "    plt.gcf().clear()\n",
    "    max_value = np.amax(data[1:])\n",
    "    min_value = np.amin(data[1:])\n",
    "    \n",
    "    for i in range(1, len(data)):\n",
    "        plt.plot(data[0], data[i], linewidth=1.8)\n",
    "    \n",
    "    plt.ylim(min_value-(0.1*min_value), max_value+(0.05*max_value))\n",
    "    plt.title(title)\n",
    "    plt.xlabel('Microhabitat')\n",
    "    plt.ylabel(yLabel)\n",
    "    plt.savefig(antibiotic_type+'-alpha='+alphaVal+'-w_death-'+yLabel+'distribution.png')\n",
    "    \n",
    "plotAllDataAtOnce(SGTA_nutrients, 'SGTA_Nutrients', 'nutrients', 'SGTA', 'specific_alpha')\n",
    "plotAllDataAtOnce(SGTA_mu, 'SGTA_mu(S)', 'mu(S)', 'SGTA', 'specific_alpha')\n",
    "plotAllDataAtOnce(SGTA_phi, 'SGTA_phi(c)', 'phi(c)', 'SGTA', 'specific_alpha')"
   ]
  },
  {
   "cell_type": "code",
   "execution_count": 162,
   "metadata": {
    "collapsed": false
   },
   "outputs": [],
   "source": [
    "def plotAllMeasurementsIndividually(data, title, yLabel, antibiotic_type='SGTA', alphaVal='specific_alpha'):\n",
    "    \n",
    "    timestep = 100.\n",
    "    max_value = np.amax(data[1:])\n",
    "    min_value = np.amin(data[1:])\n",
    "    \n",
    "    for i in range(1, len(data)):\n",
    "        plt.gcf().clear()\n",
    "        plt.ylim(min_value+(0.1*min_value), max_value+(0.1*max_value))\n",
    "        plt.plot(data[0], data[i], linewidth=2.5)\n",
    "        plt.title(antibiotic_type+' '+title+' - t ='+str(timestep*(i-1)))\n",
    "        plt.axhline(0, color='black')\n",
    "        plt.xlabel('Microhabitat')\n",
    "        plt.ylabel(yLabel)\n",
    "        \n",
    "        plt.savefig(antibiotic_type+'-'+title+'-breakdown/'+antibiotic_type+'-alpha='+alphaVal+'-'+\n",
    "                    title+'-t='+str(timestep*(i-1))+'.png')\n",
    "        plt.gcf().clear()\n",
    "        \n",
    "    for measurement in data[1:]:\n",
    "        plt.plot(data[0], measurement, linewidth=2.5)\n",
    "        plt.title(antibiotic_type+' '+title+' (all)')\n",
    "        plt.xlabel('Microhabitat')\n",
    "        plt.ylabel(yLabel)\n",
    "    plt.axhline(0, color='black')\n",
    "    plt.savefig(antibiotic_type+'-'+title+'-breakdown/'+antibiotic_type+'-alpha='+alphaVal+'-'+title+'-all.png')\n",
    "    \n",
    "\n",
    "plotAllMeasurementsIndividually(SGTA_growth_rates, 'gRate', 'growth rate', 'SGTA', 'specific_alpha')\n",
    "plotAllMeasurementsIndividually(data=SGTA_mu, title='mu(S)', yLabel='mu(S)')\n",
    "plotAllMeasurementsIndividually(data=SGTA_phi, title='phi(c)', yLabel='phi(c)')\n",
    "plotAllMeasurementsIndividually(data=SGTA_nutrients, title='nutrients', yLabel='nutrients')"
   ]
  }
 ],
 "metadata": {
  "kernelspec": {
   "display_name": "Python 3",
   "language": "python",
   "name": "python3"
  },
  "language_info": {
   "codemirror_mode": {
    "name": "ipython",
    "version": 3
   },
   "file_extension": ".py",
   "mimetype": "text/x-python",
   "name": "python",
   "nbconvert_exporter": "python",
   "pygments_lexer": "ipython3",
   "version": "3.4.8"
  }
 },
 "nbformat": 4,
 "nbformat_minor": 2
}
